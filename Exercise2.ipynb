{
 "cells": [
  {
   "cell_type": "markdown",
   "id": "57ce8120",
   "metadata": {},
   "source": [
    "## Exercise 2 "
   ]
  },
  {
   "cell_type": "markdown",
   "id": "a2d4851d",
   "metadata": {},
   "source": [
    "## Linear Regression"
   ]
  },
  {
   "cell_type": "markdown",
   "id": "e9b8fe91",
   "metadata": {},
   "source": [
    "*In this exercise, we work on the two datasets containing train and test datasets*"
   ]
  },
  {
   "cell_type": "code",
   "execution_count": 1,
   "id": "183b452d",
   "metadata": {},
   "outputs": [],
   "source": [
    "import numpy as np\n",
    "data1=np.loadtxt(\"lin_reg_train.txt\")\n",
    "data2=np.loadtxt(\"lin_reg_test.txt\")\n",
    "Xtrain=data1[:,0]\n",
    "Ytrain=data1[:,1]\n",
    "Xtest=data2[:,0]\n",
    "Ytest=data2[:,1]\n",
    "def x_bar(x):\n",
    "    return np.hstack(([1],x))# adding the b i a s"
   ]
  },
  {
   "cell_type": "markdown",
   "id": "9cad6c3a",
   "metadata": {},
   "source": [
    "*We build the weights using the closed form solution of weight matrix*"
   ]
  },
  {
   "cell_type": "code",
   "execution_count": 6,
   "id": "4f25e114",
   "metadata": {},
   "outputs": [],
   "source": [
    "def Estimate_W(X , Y ) :\n",
    "    \n",
    "    X=np.vstack(([x_bar(X) for x in X]))# c r e a t i n g our Matrix\n",
    "    n=X.shape[1] # we need i t to c r e a t e the r e g u l a r i z a t i o n term\n",
    "    XT=np.transpose(X)\n",
    "    r=np.dot(XT,X)+0.01*np.identity(n)\n",
    "    W=np.linalg.inv(r).dot(XT).dot(Y)\n",
    "    error=(X.dot(W)-Y)**2\n",
    "    rms=np.sqrt(error.mean())\n",
    "    return rms,W"
   ]
  },
  {
   "cell_type": "code",
   "execution_count": 7,
   "id": "36a859a3",
   "metadata": {},
   "outputs": [
    {
     "data": {
      "text/plain": [
       "(0.462125396901633,\n",
       " array([ 0.04740039,  0.0161103 ,  0.0433588 ,  0.01931497, -0.04578041,\n",
       "        -0.04058548, -0.01427152,  0.04195414,  0.0188749 , -0.04734447,\n",
       "         0.02195106,  0.04023151, -0.03761396,  0.03686314,  0.03906733,\n",
       "        -0.04096099,  0.04096554,  0.01588139,  0.04306369, -0.04410169,\n",
       "         0.04730746,  0.03926016, -0.01660384, -0.01917413,  0.0223357 ,\n",
       "         0.02340402,  0.01523799, -0.03945195,  0.01783951, -0.04595979,\n",
       "        -0.0192821 ,  0.03856327, -0.02363279, -0.02351942, -0.04236982,\n",
       "         0.01894664,  0.0444894 , -0.02070892,  0.04314741, -0.01654505,\n",
       "         0.04509496, -0.02245419,  0.03952714,  0.01396038, -0.03738971,\n",
       "         0.01238172, -0.02162156,  0.01630873,  0.0146668 ,  0.01605446,\n",
       "         0.03925511]))"
      ]
     },
     "execution_count": 7,
     "metadata": {},
     "output_type": "execute_result"
    }
   ],
   "source": [
    "Estimate_W(Xtrain,Ytrain)"
   ]
  },
  {
   "cell_type": "code",
   "execution_count": 4,
   "id": "a2b7a015",
   "metadata": {},
   "outputs": [
    {
     "data": {
      "text/plain": [
       "0.42132130243290417"
      ]
     },
     "execution_count": 4,
     "metadata": {},
     "output_type": "execute_result"
    }
   ],
   "source": [
    "Estimate_W(Xtest,Ytest)"
   ]
  },
  {
   "cell_type": "markdown",
   "id": "e62e7982",
   "metadata": {},
   "source": [
    "*The weights of the linear equation can be found from the closed form solution*"
   ]
  },
  {
   "cell_type": "code",
   "execution_count": 19,
   "id": "cfa8b1ab",
   "metadata": {},
   "outputs": [],
   "source": [
    "import numpy as np\n",
    "data1=np.loadtxt('lin_reg_train.txt')\n",
    "data2=np.loadtxt('lin_reg_test.txt')\n",
    "Xtrain=data1[:,0]\n",
    "Ytrain=data1[:,1]\n",
    "Xtest=data2[:,0]\n",
    "Ytest=data2[:,1]\n",
    "def transform(X):\n",
    "    a=np.ones(50)\n",
    "    a=np.array(a)\n",
    "    a2=2*np.ones(50)\n",
    "    a2=np.array(X)\n",
    "    a3=np.square(X)\n",
    "    a4=np.power(a2,3)\n",
    "    p=np.vstack((a , X , a3 , a4))\n",
    "    a5=np.power(a2 , 4 )\n",
    "    p=np.vstack((a,X,a3,a4,a5))\n",
    "    p=p.T\n",
    "    return p\n",
    "\n",
    "def Estimate_W (X , Y ) :\n",
    "\n",
    "    X=transform(X)\n",
    "    n=X.shape[1] # we need i t to c r e a t e the r e g u l a r i z a t i o n term\n",
    "    XT=np.transpose(X)\n",
    "    r=np.dot(XT , X)+0.01*np.identity(n)\n",
    "    W=np.linalg.inv(r).dot(XT).dot(Y) #weights from the closed form solution\n",
    "    error=(X.dot(W)-Y)**2\n",
    "    rms=np.sqrt(error.mean())\n",
    "    return rms , W"
   ]
  },
  {
   "cell_type": "markdown",
   "id": "ec41909a",
   "metadata": {},
   "source": [
    "*We build a polynomial regression with degree 4 with the weights we got earlier*"
   ]
  },
  {
   "cell_type": "code",
   "execution_count": 21,
   "id": "a2106c6f",
   "metadata": {},
   "outputs": [
    {
     "name": "stdout",
     "output_type": "stream",
     "text": [
      "[ 0.75228728 -1.10393244  0.91038485  1.11271341  0.10347984]\n"
     ]
    },
    {
     "data": {
      "text/plain": [
       "Text(0, 0.5, 'Corresponding Y values')"
      ]
     },
     "execution_count": 21,
     "metadata": {},
     "output_type": "execute_result"
    },
    {
     "data": {
      "image/png": "[encoded data removed]",
      "text/plain": [
       "<Figure size 432x288 with 1 Axes>"
      ]
     },
     "metadata": {
      "needs_background": "light"
     },
     "output_type": "display_data"
    }
   ],
   "source": [
    "Estimate_W(Xtrain , Ytrain )\n",
    "import matplotlib.pyplot as plt\n",
    "plt.plot(Xtrain , Ytrain , 'o', color= 'black',label= 'Training samples')\n",
    "rms ,W=Estimate_W(Xtrain , Ytrain)\n",
    "print(W)\n",
    "plt.plot(Xtrain ,W[0]+ Xtrain*W[1]+( Xtrain*Xtrain )*W[2]+(( Xtrain )**3)*W[3]+( Xtrain **4)*W[4] , 'o' )\n",
    "plt.title(\"polynomial regression( degree 4)\")\n",
    "plt.legend()\n",
    "plt.xlabel(\"X values\")\n",
    "plt.ylabel(\"Corresponding Y values\")"
   ]
  },
  {
   "cell_type": "markdown",
   "id": "5efed412",
   "metadata": {},
   "source": [
    "## Bayesian Linear Regresssion"
   ]
  },
  {
   "cell_type": "code",
   "execution_count": 40,
   "id": "14507a12",
   "metadata": {},
   "outputs": [
    {
     "data": {
      "image/png": "[encoded data removed]",
      "text/plain": [
       "<Figure size 432x288 with 1 Axes>"
      ]
     },
     "metadata": {
      "needs_background": "light"
     },
     "output_type": "display_data"
    }
   ],
   "source": [
    "import numpy as np\n",
    "import matplotlib.pyplot as plt\n",
    "data1=np.loadtxt(\"lin_reg_train.txt\")\n",
    "data2=np.loadtxt(\"lin_reg_test.txt\")\n",
    "Xtrain=data1[:,0]\n",
    "Ytrain=data1[:,1]\n",
    "Xtest=data2[:,0]\n",
    "Ytest=data2[:,1]\n",
    "a=np.ones(50)\n",
    "a=np.array(a)\n",
    "p=np.vstack((a,Xtrain ))\n",
    "p=np.matrix(p)\n",
    "x_tr=p.T\n",
    "m0=np.matrix([0 ,0])\n",
    "cov0=np.matrix([[0.01 ,0 ] ,[0 ,0.01] ])\n",
    "cov0=np.linalg.inv(cov0)\n",
    "mean_pred=[]\n",
    "var_pred=[]\n",
    "\n",
    "for i in range(50):\n",
    "    s=np.dot((x_tr[i].T),x_tr[i])\n",
    "    cov1=np.linalg.inv(cov0)+100*(s)\n",
    "    cov_inv=np.linalg.inv(cov1)\n",
    "    m1=np.dot(np.linalg.inv(cov0),m0.T)+100*np.dot(x_tr[i].T, Ytrain[i])\n",
    "    m1=np.dot(cov_inv,m1)\n",
    "    m1=np.array(m1)\n",
    "    #plt.plot(Xtrain,m1[0]+ Xtrain*m1[1])\n",
    "    plt.scatter(Xtrain[0:i+1], Ytrain[0:i+1])\n",
    "    cov0=cov_inv.copy()\n",
    "    m0=m1.copy()\n",
    "    m0=m0.T\n",
    "\n",
    "    \n",
    "for i in range(50):\n",
    "    mean_test=np.dot(m1.T , x_tr[i].T)\n",
    "    temp=np.dot(x_tr[i] ,cov_inv)\n",
    "    var=(1/100)+np.dot(temp,x_tr[i].T)\n",
    "    var=np.sqrt(var)\n",
    "    mean_pred.append(np.linalg.det(mean_test))\n",
    "    var_pred.append(np.linalg.det(var))\n",
    "\n",
    "mean_pred=np.array(mean_pred)\n",
    "a1=mean_pred-var_pred\n",
    "a2=mean_pred+var_pred\n",
    "plt.fill_between(Xtrain ,a1,a2 ,alpha =0.33, label= \"Uncertainty Interval ($\\mu\\pm3\\sigma)\")\n",
    "plt.show()"
   ]
  },
  {
   "cell_type": "markdown",
   "id": "63ae1c53",
   "metadata": {},
   "source": [
    "## Linear Discrimant Analysis"
   ]
  },
  {
   "cell_type": "code",
   "execution_count": 41,
   "id": "d8510cf8",
   "metadata": {},
   "outputs": [
    {
     "data": {
      "image/png": "[encoded data removed]",
      "text/plain": [
       "<Figure size 432x288 with 1 Axes>"
      ]
     },
     "metadata": {
      "needs_background": "light"
     },
     "output_type": "display_data"
    }
   ],
   "source": [
    "import numpy as np\n",
    "import matplotlib.pyplot as plt\n",
    "data=np.loadtxt(\"ldaData.txt\")\n",
    "array_x_ =[]\n",
    "array_y_ =[]\n",
    "array_x1 =[]\n",
    "array_y1 =[]\n",
    "array_x2 =[]\n",
    "array_y2 =[]\n",
    "array_x3 =[]\n",
    "array_y3 =[]\n",
    "for i in range(0 ,137):\n",
    "    array_x_.append(data[i,0 ])\n",
    "    array_y_.append(data[i,1 ])\n",
    "for i in range (0 ,50):\n",
    "    array_x1.append(data[i,0])\n",
    "    array_y1.append(data[i,1])\n",
    "for i in range (50 ,93):\n",
    "    array_x2.append(data[i,0])\n",
    "    array_y2.append(data[i,1])\n",
    "for i in range (93 ,137):\n",
    "    array_x3.append(data[i,0])\n",
    "    array_y3.append(data[i,1])\n",
    "\n",
    "plt.scatter(array_x1,array_y1,color= \"r\" , label= \"class C1\")\n",
    "plt.scatter(array_x2,array_y2,color= \"m\", label=\"class C2\")\n",
    "plt.scatter(array_x3,array_y3,color= \"b\" , label= \"class C3\")\n",
    "plt.legend()\n",
    "plt.title(\"Original dataset of 3 Classes\")\n",
    "plt.show()\n",
    "\n",
    "p1=np.zeros(50)\n",
    "p2=np.zeros(43)\n",
    "p3=np.zeros(44)\n",
    "\n",
    "def s_b_test(mu1,mu2, mu_1_total , mu_2_total):\n",
    "    s_b_1=np . zeros ((2 ,2))\n",
    "    a=np.matrix([[mu1-mu_1_total ] ,[mu2-mu_2_total ]])\n",
    "    s_b_1=np.dot(a, a.T)\n",
    "    return s_b_1"
   ]
  },
  {
   "cell_type": "code",
   "execution_count": 32,
   "id": "50f244b2",
   "metadata": {},
   "outputs": [],
   "source": [
    "def s_w_test(x1,x2,mu1,mu2):\n",
    "    s_w_1=np.zeros((2 ,2))\n",
    "    for i in range(len(x1)):\n",
    "        a=np.matrix([[x1[i]-mu1],[x2[i]-mu2]])\n",
    "        s_w_1+=np.dot(a,a.T)\n",
    "    return s_w_1\n",
    "mu11=np.mean(array_x1)\n",
    "mu12=np.mean(array_y1)\n",
    "mu21=np.mean(array_x2)\n",
    "mu22=np.mean(array_y2)\n",
    "mu31=np.mean(array_x3)\n",
    "mu32=np.mean(array_y3)\n",
    "mu1=np.mean(array_x_)\n",
    "mu2=np.mean(array_y_)\n",
    "s1=s_w_test(array_x1,array_y1 ,mu11,mu12)\n",
    "s2=s_w_test(array_x2,array_y2 ,mu21,mu22)\n",
    "s3=s_w_test(array_x3,array_y3 ,mu31,mu32)\n",
    "s4=s1+s2+s3\n",
    "sb1=50*s_b_test(mu11, mu12,mu1,mu2)\n",
    "sb2=43*s_b_test(mu21, mu22,mu1,mu2)\n",
    "sb3=44*s_b_test(mu31, mu32,mu1,mu2)\n",
    "sb_=sb1+sb2+sb3\n",
    "final1=np.dot(np.linalg.inv(s4),sb_)\n",
    "\n",
    "#we find the eigen vectors and eigen values of the data\n",
    "eigen_value , eigen_vector=np.linalg.eig(final1)\n",
    "eigen_v11=eigen_vector[0 ,0]\n",
    "eigen_v12=eigen_vector[1 ,0]\n",
    "eigen_v21=eigen_vector[0 ,1]\n",
    "eigen_v22=eigen_vector[1 ,1]\n",
    "y_x1=[]\n",
    "y_y1=[]\n",
    "y_x2=[]\n",
    "y_y2=[]\n",
    "y_x3=[]\n",
    "y_y3=[]\n",
    "for i in range ( len ( array_x1 ) ) :\n",
    "    y_x1.append(eigen_v11*array_x1[ i ]+eigen_v12*array_y1[ i ])\n",
    "    y_y1.append(eigen_v21*array_x1[ i ]+eigen_v22*array_y1[ i ])\n",
    "for i in range ( len ( array_x2 ) ) :\n",
    "    y_x2.append(eigen_v11*array_x2[ i ]+eigen_v12*array_y2[ i ])\n",
    "    y_y2.append(eigen_v21*array_x2[ i ]+eigen_v22*array_y2[ i ])"
   ]
  },
  {
   "cell_type": "code",
   "execution_count": 33,
   "id": "7fb811d7",
   "metadata": {},
   "outputs": [
    {
     "data": {
      "image/png": "[encoded data removed]",
      "text/plain": [
       "<Figure size 432x288 with 1 Axes>"
      ]
     },
     "metadata": {
      "needs_background": "light"
     },
     "output_type": "display_data"
    }
   ],
   "source": [
    "for i in range(len(array_x3)):\n",
    "    y_x3.append(eigen_v11*array_x3[i]+eigen_v12*array_y3[i])\n",
    "    y_y3.append(eigen_v21*array_x3[i]+eigen_v22*array_y3[i])\n",
    "plt.scatter(y_x1, y_y1, color= \"r\" , label= \"Class C1\")\n",
    "plt.scatter(y_x2, y_y2, color= \"m\" , label= \"Class C2\")\n",
    "plt.scatter(y_x3, y_y3, color= \"b\" , label= \"Class C3\")\n",
    "plt.legend()\n",
    "plt.title(\"LDA Transformed(Projection on eigen vectors) Dataset of 3 classes\")\n",
    "plt.show()"
   ]
  },
  {
   "cell_type": "markdown",
   "id": "d0f2998a",
   "metadata": {},
   "source": [
    "*we find the gaussian distribution of the data for all the classess*"
   ]
  },
  {
   "cell_type": "code",
   "execution_count": 35,
   "id": "ffa4e779",
   "metadata": {},
   "outputs": [
    {
     "data": {
      "image/png": "[encoded data removed]",
      "text/plain": [
       "<Figure size 432x288 with 1 Axes>"
      ]
     },
     "metadata": {
      "needs_background": "light"
     },
     "output_type": "display_data"
    }
   ],
   "source": [
    "def gauss1(mean,var, x):\n",
    "    a=1/(np.sqrt(2*np.pi*(var)**2))\n",
    "    b=np.exp(-((x-mean)**2)/(2*( var )**2))\n",
    "    p=a*b\n",
    "    return p\n",
    "\n",
    "mean1=np.mean(y_x1)\n",
    "mean2=np.mean(y_x2)\n",
    "mean3=np.mean(y_x3)\n",
    "variance1=np.var(y_x1)\n",
    "variance2=np.var(y_x2)\n",
    "variance3=np.var(y_x3)\n",
    "pc1=50/137\n",
    "pc2=43/137\n",
    "pc3=44/137\n",
    "\n",
    "array=np.linspace(0,3,200)\n",
    "p1=[]\n",
    "p2=[]\n",
    "p3=[]\n",
    "for i in range (0 ,200):\n",
    "    p1.append(gauss1(mean1, variance1, array[i]))\n",
    "    p2.append(gauss1(mean2, variance2, array[i]))\n",
    "    p3.append(gauss1(mean3, variance3, array[i]))\n",
    "post11=[]\n",
    "post22=[]\n",
    "post33=[]\n",
    "\n",
    "for i in range (0 ,200):\n",
    "    a1=p1[ i ]*pc1\n",
    "    a2=p2[ i ]*pc2\n",
    "    a3=p3[ i ]*pc3\n",
    "    post11.append(a1)\n",
    "    post22.append(a2)\n",
    "    post33.append(a3)\n",
    "\n",
    "plt.plot(array , post11 , color= \"r\", label= \"Class C1\")\n",
    "plt.plot(array,post22,color= \"m\", label= \"Class C2\")\n",
    "plt.plot(array,post33,color= \"b\" , label= \"Class C3\" )\n",
    "plt.title(\"Gaussian distribution of classes after LDA transformed\")\n",
    "plt.legend()\n",
    "plt.show()"
   ]
  },
  {
   "cell_type": "code",
   "execution_count": 38,
   "id": "566c8161",
   "metadata": {},
   "outputs": [
    {
     "data": {
      "image/png": "[encoded data removed]",
      "text/plain": [
       "<Figure size 432x288 with 1 Axes>"
      ]
     },
     "metadata": {
      "needs_background": "light"
     },
     "output_type": "display_data"
    }
   ],
   "source": [
    "p1_x=[]\n",
    "p2_x=[]\n",
    "p3_x=[]\n",
    "p1_y=[]\n",
    "p2_y=[]\n",
    "p3_y=[]\n",
    "for i in range(len(y_x1)):\n",
    "    a1=(gauss1(mean1,variance1,y_x1[i]))*pc1\n",
    "    a2=(gauss1(mean2,variance2,y_x1[i]))*pc2\n",
    "    a3=(gauss1(mean3,variance3,y_x1[i]))*pc3\n",
    "    if(a1>a2)&(a1>a3 ) :\n",
    "        p1_x.append(y_x1[i])\n",
    "        p1_y.append(y_y1[i])\n",
    "    elif(a2>a3):\n",
    "        p2_x.append(y_x1[i])\n",
    "        p2_y.append(y_y1[i])\n",
    "    elif(a3>a2):\n",
    "        p3_x.append(y_x1[i])\n",
    "        p3_y.append(y_y1[i])\n",
    "\n",
    "for i in range ( len ( y_x2 ) ) :\n",
    "    a1=(gauss1(mean1,variance1,y_x2 [ i ]))*pc1\n",
    "    a2=(gauss1(mean2,variance2,y_x2 [ i ]))*pc2\n",
    "    a3=(gauss1(mean3,variance3,y_x2 [ i ]))*pc3\n",
    "    if(a1>a2)&(a1>a3):\n",
    "        p1_x.append(y_x2[i])\n",
    "        p1_y.append(y_y2[i])\n",
    "    elif(a2>a3):\n",
    "        p2_x.append(y_x2[i])\n",
    "        p2_y.append(y_y2[i])\n",
    "    elif(a3>a2):\n",
    "        p3_x.append(y_x2[i])\n",
    "        p3_y.append(y_y2[i])\n",
    "for i in range(len(y_x3)):\n",
    "    a1=(gauss1(mean1,variance1,y_x3[i]))*pc1\n",
    "    a2=(gauss1(mean2,variance2,y_x3[i]))*pc2\n",
    "    a3=(gauss1(mean3,variance3,y_x3[i]))*pc3\n",
    "    if(a1>a2)&(a1>a3):\n",
    "        p1_x.append(y_x3[i])\n",
    "        p1_y.append(y_y3[i])\n",
    "    elif(a2>a3 ) :\n",
    "        p2_x.append(y_x3[i])\n",
    "        p2_y.append(y_y3[i])\n",
    "    elif(a3>a2):\n",
    "        p3_x . append ( y_x3 [ i ])\n",
    "        p3_y . append ( y_y3 [ i ])\n",
    "\n",
    "plt.scatter(p1_x,p1_y,color=\"r\" , label= \"Class C1\")\n",
    "plt.scatter(p2_x,p2_y,color=\"m\", label= \"ClassC2\")\n",
    "plt.scatter(p3_x,p3_y,color=\"b\" , label= \"Class C3\")\n",
    "plt.legend()\n",
    "plt.title(\"Classified Dataset  of 3 classes\")\n",
    "plt.show()"
   ]
  },
  {
   "cell_type": "markdown",
   "id": "d72ebbc0",
   "metadata": {},
   "source": [
    "## PCA"
   ]
  },
  {
   "cell_type": "markdown",
   "id": "f52f7889",
   "metadata": {},
   "source": [
    "*We do the pca on the dataset and show the pca transformed data looks in the dataset*"
   ]
  },
  {
   "cell_type": "code",
   "execution_count": 39,
   "id": "1ccb52e3",
   "metadata": {},
   "outputs": [
    {
     "name": "stdout",
     "output_type": "stream",
     "text": [
      "Cumulative sum of eigen values : [0.91758513 0.97708539 0.99500656 1.        ]\n"
     ]
    },
    {
     "data": {
      "text/plain": [
       "<matplotlib.legend.Legend at 0x19a5e9f4cd0>"
      ]
     },
     "execution_count": 39,
     "metadata": {},
     "output_type": "execute_result"
    },
    {
     "data": {
      "image/png": "[encoded data removed]",
      "text/plain": [
       "<Figure size 432x288 with 1 Axes>"
      ]
     },
     "metadata": {
      "needs_background": "light"
     },
     "output_type": "display_data"
    }
   ],
   "source": [
    "import numpy as np\n",
    "import matplotlib.pyplot as plt\n",
    "data=np.loadtxt(\"iris.txt\", delimiter=\",\")\n",
    "d1=(data[: ,0]-np.mean(data[:,0]))/np.std(data[:,0])\n",
    "d2=(data[: ,1])-np.mean(data[:,1])/np.std(data[:,1])\n",
    "d3=(data[: ,2])-np.mean(data[:,2])/np.std(data[:,2])\n",
    "d4=(data[: ,3])-np.mean(data[:,3])/np.std(data[:,3])\n",
    "\n",
    "data33=np.vstack((d1,d2,d3,d4))\n",
    "data33=data33.T\n",
    "\n",
    "cov1=np.cov(data33.T)\n",
    "cov1=cov1.T\n",
    "\n",
    "eigenvalues , eigenvector=np.linalg.eig(cov1)\n",
    "p=(eigenvalues/np.sum(eigenvalues))\n",
    "print(\"Cumulative sum of eigen values :\",np.cumsum(p))\n",
    "final1=np.dot(data33,eigenvector[:,0:2])\n",
    "\n",
    "plt.plot(final1[0:50 ,0] , final1[0:50 ,1] , \"o\", label= \"Class 1\")\n",
    "plt.plot(final1[50:100 ,0] , final1[50:100 ,1] , \"o\" , label= \"Class 0\")\n",
    "plt.plot(final1[100:150 ,0] , final1[100:150 ,1] , \"o\" , label= \"Class 2\")\n",
    "plt.title( \"Scatter plot  of PCA transformed data\")\n",
    "plt.legend()"
   ]
  }
 ],
 "metadata": {
  "kernelspec": {
   "display_name": "Python 3 (ipykernel)",
   "language": "python",
   "name": "python3"
  },
  "language_info": {
   "codemirror_mode": {
    "name": "ipython",
    "version": 3
   },
   "file_extension": ".py",
   "mimetype": "text/x-python",
   "name": "python",
   "nbconvert_exporter": "python",
   "pygments_lexer": "ipython3",
   "version": "3.8.8"
  }
 },
 "nbformat": 4,
 "nbformat_minor": 5
}
